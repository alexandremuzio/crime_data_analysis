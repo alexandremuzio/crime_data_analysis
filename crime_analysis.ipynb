{
 "cells": [
  {
   "cell_type": "code",
   "execution_count": 33,
   "metadata": {
    "collapsed": true
   },
   "outputs": [],
   "source": [
    "import numpy as np\n",
    "import pandas as pd\n",
    "import datetime\n",
    "\n",
    "import seaborn as sns\n",
    "import matplotlib.pyplot as plt"
   ]
  },
  {
   "cell_type": "code",
   "execution_count": 21,
   "metadata": {
    "collapsed": true
   },
   "outputs": [],
   "source": [
    "FILE=\"crime.csv\""
   ]
  },
  {
   "cell_type": "code",
   "execution_count": 36,
   "metadata": {
    "collapsed": false
   },
   "outputs": [],
   "source": [
    "dateparse = lambda x: datetime.datetime.strptime(x,'%Y-%m-%d %H:%M:%S')\n",
    "\n",
    "d = pd.read_csv(FILE,\n",
    "  header=0,names=['Dc_Dist', 'Psa', 'Dispatch_Date_Time', 'Dispatch_Date',\n",
    "       'Dispatch_Time', 'Hour', 'Dc_Key', 'Location_Block', 'UCR_General',\n",
    "       'Text_General_Code',  'Police_Districts', 'Month', 'Lon',\n",
    "       'Lat'],dtype={'Dc_Dist':str,'Psa':str,\n",
    "                'Dispatch_Date_Time':str,'Dispatch_Date':str,'Dispatch_Time':str,\n",
    "                  'Hour':str,'Dc_Key':str,'Location_Block':str,\n",
    "                     'UCR_General':str,'Text_General_Code':str,\n",
    "              'Police_Districts':str,'Month':str,'Lon':str,'Lat':str},\n",
    "             parse_dates=['Dispatch_Date_Time'],date_parser=dateparse)\n",
    "\n",
    "# Fix Month to datetime Month\n",
    "d['Month'] = d['Month'].apply(lambda x: datetime.datetime.strptime(x,'%Y-%m'))"
   ]
  },
  {
   "cell_type": "code",
   "execution_count": 17,
   "metadata": {
    "collapsed": false
   },
   "outputs": [
    {
     "data": {
      "text/html": [
       "<div>\n",
       "<table border=\"1\" class=\"dataframe\">\n",
       "  <thead>\n",
       "    <tr style=\"text-align: right;\">\n",
       "      <th></th>\n",
       "      <th>Dc_Dist</th>\n",
       "      <th>Psa</th>\n",
       "      <th>Dispatch_Date_Time</th>\n",
       "      <th>Dispatch_Date</th>\n",
       "      <th>Dispatch_Time</th>\n",
       "      <th>Hour</th>\n",
       "      <th>Dc_Key</th>\n",
       "      <th>Location_Block</th>\n",
       "      <th>UCR_General</th>\n",
       "      <th>Text_General_Code</th>\n",
       "      <th>Police_Districts</th>\n",
       "      <th>Month</th>\n",
       "      <th>Lon</th>\n",
       "      <th>Lat</th>\n",
       "    </tr>\n",
       "  </thead>\n",
       "  <tbody>\n",
       "    <tr>\n",
       "      <th>0</th>\n",
       "      <td>18</td>\n",
       "      <td>3</td>\n",
       "      <td>2009-10-02 14:24:00</td>\n",
       "      <td>2009-10-02</td>\n",
       "      <td>14:24:00</td>\n",
       "      <td>14</td>\n",
       "      <td>200918067518</td>\n",
       "      <td>S 38TH ST  / MARKETUT ST</td>\n",
       "      <td>800.0</td>\n",
       "      <td>Other Assaults</td>\n",
       "      <td>NaN</td>\n",
       "      <td>2009-10</td>\n",
       "      <td>NaN</td>\n",
       "      <td>NaN</td>\n",
       "    </tr>\n",
       "    <tr>\n",
       "      <th>1</th>\n",
       "      <td>14</td>\n",
       "      <td>1</td>\n",
       "      <td>2009-05-10 00:55:00</td>\n",
       "      <td>2009-05-10</td>\n",
       "      <td>00:55:00</td>\n",
       "      <td>0</td>\n",
       "      <td>200914033994</td>\n",
       "      <td>8500 BLOCK MITCH</td>\n",
       "      <td>2600.0</td>\n",
       "      <td>All Other Offenses</td>\n",
       "      <td>NaN</td>\n",
       "      <td>2009-05</td>\n",
       "      <td>NaN</td>\n",
       "      <td>NaN</td>\n",
       "    </tr>\n",
       "    <tr>\n",
       "      <th>2</th>\n",
       "      <td>25</td>\n",
       "      <td>J</td>\n",
       "      <td>2009-08-07 15:40:00</td>\n",
       "      <td>2009-08-07</td>\n",
       "      <td>15:40:00</td>\n",
       "      <td>15</td>\n",
       "      <td>200925083199</td>\n",
       "      <td>6TH CAMBRIA</td>\n",
       "      <td>800.0</td>\n",
       "      <td>Other Assaults</td>\n",
       "      <td>NaN</td>\n",
       "      <td>2009-08</td>\n",
       "      <td>NaN</td>\n",
       "      <td>NaN</td>\n",
       "    </tr>\n",
       "    <tr>\n",
       "      <th>3</th>\n",
       "      <td>35</td>\n",
       "      <td>D</td>\n",
       "      <td>2009-07-19 01:09:00</td>\n",
       "      <td>2009-07-19</td>\n",
       "      <td>01:09:00</td>\n",
       "      <td>1</td>\n",
       "      <td>200935061008</td>\n",
       "      <td>5500 BLOCK N 5TH ST</td>\n",
       "      <td>1500.0</td>\n",
       "      <td>Weapon Violations</td>\n",
       "      <td>20.0</td>\n",
       "      <td>2009-07</td>\n",
       "      <td>-75.130477</td>\n",
       "      <td>40.036389</td>\n",
       "    </tr>\n",
       "    <tr>\n",
       "      <th>4</th>\n",
       "      <td>9</td>\n",
       "      <td>R</td>\n",
       "      <td>2009-06-25 00:14:00</td>\n",
       "      <td>2009-06-25</td>\n",
       "      <td>00:14:00</td>\n",
       "      <td>0</td>\n",
       "      <td>200909030511</td>\n",
       "      <td>1800 BLOCK WYLIE ST</td>\n",
       "      <td>2600.0</td>\n",
       "      <td>All Other Offenses</td>\n",
       "      <td>8.0</td>\n",
       "      <td>2009-06</td>\n",
       "      <td>-75.166350</td>\n",
       "      <td>39.969532</td>\n",
       "    </tr>\n",
       "  </tbody>\n",
       "</table>\n",
       "</div>"
      ],
      "text/plain": [
       "   Dc_Dist Psa   Dispatch_Date_Time Dispatch_Date Dispatch_Time  Hour  \\\n",
       "0       18   3  2009-10-02 14:24:00    2009-10-02      14:24:00    14   \n",
       "1       14   1  2009-05-10 00:55:00    2009-05-10      00:55:00     0   \n",
       "2       25   J  2009-08-07 15:40:00    2009-08-07      15:40:00    15   \n",
       "3       35   D  2009-07-19 01:09:00    2009-07-19      01:09:00     1   \n",
       "4        9   R  2009-06-25 00:14:00    2009-06-25      00:14:00     0   \n",
       "\n",
       "         Dc_Key            Location_Block  UCR_General   Text_General_Code  \\\n",
       "0  200918067518  S 38TH ST  / MARKETUT ST        800.0      Other Assaults   \n",
       "1  200914033994          8500 BLOCK MITCH       2600.0  All Other Offenses   \n",
       "2  200925083199               6TH CAMBRIA        800.0      Other Assaults   \n",
       "3  200935061008       5500 BLOCK N 5TH ST       1500.0   Weapon Violations   \n",
       "4  200909030511       1800 BLOCK WYLIE ST       2600.0  All Other Offenses   \n",
       "\n",
       "   Police_Districts    Month        Lon        Lat  \n",
       "0               NaN  2009-10        NaN        NaN  \n",
       "1               NaN  2009-05        NaN        NaN  \n",
       "2               NaN  2009-08        NaN        NaN  \n",
       "3              20.0  2009-07 -75.130477  40.036389  \n",
       "4               8.0  2009-06 -75.166350  39.969532  "
      ]
     },
     "execution_count": 17,
     "metadata": {},
     "output_type": "execute_result"
    }
   ],
   "source": [
    "df.head()"
   ]
  },
  {
   "cell_type": "code",
   "execution_count": 37,
   "metadata": {
    "collapsed": false
   },
   "outputs": [
    {
     "data": {
      "text/html": [
       "<div>\n",
       "<table border=\"1\" class=\"dataframe\">\n",
       "  <thead>\n",
       "    <tr style=\"text-align: right;\">\n",
       "      <th></th>\n",
       "      <th>Dc_Dist</th>\n",
       "      <th>Hour</th>\n",
       "      <th>Dc_Key</th>\n",
       "      <th>UCR_General</th>\n",
       "      <th>Police_Districts</th>\n",
       "      <th>Lon</th>\n",
       "      <th>Lat</th>\n",
       "      <th>Value</th>\n",
       "    </tr>\n",
       "  </thead>\n",
       "  <tbody>\n",
       "    <tr>\n",
       "      <th>count</th>\n",
       "      <td>2.191142e+06</td>\n",
       "      <td>2.191142e+06</td>\n",
       "      <td>2.191142e+06</td>\n",
       "      <td>2.190771e+06</td>\n",
       "      <td>2.171594e+06</td>\n",
       "      <td>2.174128e+06</td>\n",
       "      <td>2.174128e+06</td>\n",
       "      <td>2191142.0</td>\n",
       "    </tr>\n",
       "    <tr>\n",
       "      <th>mean</th>\n",
       "      <td>1.725813e+01</td>\n",
       "      <td>1.315404e+01</td>\n",
       "      <td>2.010850e+11</td>\n",
       "      <td>1.273115e+03</td>\n",
       "      <td>1.205751e+01</td>\n",
       "      <td>-7.514989e+01</td>\n",
       "      <td>3.999199e+01</td>\n",
       "      <td>1.0</td>\n",
       "    </tr>\n",
       "    <tr>\n",
       "      <th>std</th>\n",
       "      <td>1.064949e+01</td>\n",
       "      <td>6.814275e+00</td>\n",
       "      <td>3.149763e+08</td>\n",
       "      <td>8.153109e+02</td>\n",
       "      <td>5.793053e+00</td>\n",
       "      <td>5.973885e-02</td>\n",
       "      <td>4.536990e-02</td>\n",
       "      <td>0.0</td>\n",
       "    </tr>\n",
       "    <tr>\n",
       "      <th>min</th>\n",
       "      <td>1.000000e+00</td>\n",
       "      <td>0.000000e+00</td>\n",
       "      <td>1.998121e+11</td>\n",
       "      <td>1.000000e+02</td>\n",
       "      <td>1.000000e+00</td>\n",
       "      <td>-7.527773e+01</td>\n",
       "      <td>3.986999e+01</td>\n",
       "      <td>1.0</td>\n",
       "    </tr>\n",
       "    <tr>\n",
       "      <th>25%</th>\n",
       "      <td>9.000000e+00</td>\n",
       "      <td>9.000000e+00</td>\n",
       "      <td>2.008150e+11</td>\n",
       "      <td>6.000000e+02</td>\n",
       "      <td>8.000000e+00</td>\n",
       "      <td>-7.518487e+01</td>\n",
       "      <td>3.995564e+01</td>\n",
       "      <td>1.0</td>\n",
       "    </tr>\n",
       "    <tr>\n",
       "      <th>50%</th>\n",
       "      <td>1.600000e+01</td>\n",
       "      <td>1.400000e+01</td>\n",
       "      <td>2.011020e+11</td>\n",
       "      <td>8.000000e+02</td>\n",
       "      <td>1.200000e+01</td>\n",
       "      <td>-7.515666e+01</td>\n",
       "      <td>3.999102e+01</td>\n",
       "      <td>1.0</td>\n",
       "    </tr>\n",
       "    <tr>\n",
       "      <th>75%</th>\n",
       "      <td>2.400000e+01</td>\n",
       "      <td>1.900000e+01</td>\n",
       "      <td>2.013260e+11</td>\n",
       "      <td>1.800000e+03</td>\n",
       "      <td>1.700000e+01</td>\n",
       "      <td>-7.511839e+01</td>\n",
       "      <td>4.002741e+01</td>\n",
       "      <td>1.0</td>\n",
       "    </tr>\n",
       "    <tr>\n",
       "      <th>max</th>\n",
       "      <td>9.200000e+01</td>\n",
       "      <td>2.300000e+01</td>\n",
       "      <td>2.016770e+11</td>\n",
       "      <td>2.600000e+03</td>\n",
       "      <td>2.200000e+01</td>\n",
       "      <td>-7.495750e+01</td>\n",
       "      <td>4.013790e+01</td>\n",
       "      <td>1.0</td>\n",
       "    </tr>\n",
       "  </tbody>\n",
       "</table>\n",
       "</div>"
      ],
      "text/plain": [
       "            Dc_Dist          Hour        Dc_Key   UCR_General  \\\n",
       "count  2.191142e+06  2.191142e+06  2.191142e+06  2.190771e+06   \n",
       "mean   1.725813e+01  1.315404e+01  2.010850e+11  1.273115e+03   \n",
       "std    1.064949e+01  6.814275e+00  3.149763e+08  8.153109e+02   \n",
       "min    1.000000e+00  0.000000e+00  1.998121e+11  1.000000e+02   \n",
       "25%    9.000000e+00  9.000000e+00  2.008150e+11  6.000000e+02   \n",
       "50%    1.600000e+01  1.400000e+01  2.011020e+11  8.000000e+02   \n",
       "75%    2.400000e+01  1.900000e+01  2.013260e+11  1.800000e+03   \n",
       "max    9.200000e+01  2.300000e+01  2.016770e+11  2.600000e+03   \n",
       "\n",
       "       Police_Districts           Lon           Lat      Value  \n",
       "count      2.171594e+06  2.174128e+06  2.174128e+06  2191142.0  \n",
       "mean       1.205751e+01 -7.514989e+01  3.999199e+01        1.0  \n",
       "std        5.793053e+00  5.973885e-02  4.536990e-02        0.0  \n",
       "min        1.000000e+00 -7.527773e+01  3.986999e+01        1.0  \n",
       "25%        8.000000e+00 -7.518487e+01  3.995564e+01        1.0  \n",
       "50%        1.200000e+01 -7.515666e+01  3.999102e+01        1.0  \n",
       "75%        1.700000e+01 -7.511839e+01  4.002741e+01        1.0  \n",
       "max        2.200000e+01 -7.495750e+01  4.013790e+01        1.0  "
      ]
     },
     "execution_count": 37,
     "metadata": {},
     "output_type": "execute_result"
    }
   ],
   "source": [
    "df.describe()"
   ]
  },
  {
   "cell_type": "code",
   "execution_count": 38,
   "metadata": {
    "collapsed": false
   },
   "outputs": [
    {
     "data": {
      "text/plain": [
       "array(['Other Assaults', 'All Other Offenses', 'Weapon Violations',\n",
       "       'Thefts', 'Burglary Non-Residential', 'Aggravated Assault Firearm',\n",
       "       'Theft from Vehicle', 'Disorderly Conduct',\n",
       "       'Vandalism/Criminal Mischief', 'Arson', 'Fraud',\n",
       "       'Robbery No Firearm', 'Vagrancy/Loitering', 'Motor Vehicle Theft',\n",
       "       'Recovered Stolen Motor Vehicle', 'Robbery Firearm', 'Embezzlement',\n",
       "       'Rape', 'DRIVING UNDER THE INFLUENCE', 'Forgery and Counterfeiting',\n",
       "       'Narcotic / Drug Law Violations', 'Burglary Residential',\n",
       "       'Other Sex Offenses (Not Commercialized)', 'Liquor Law Violations',\n",
       "       'Aggravated Assault No Firearm', 'Homicide - Criminal',\n",
       "       'Gambling Violations', 'Prostitution and Commercialized Vice',\n",
       "       'Public Drunkenness', 'Receiving Stolen Property',\n",
       "       'Homicide - Gross Negligence',\n",
       "       'Offenses Against Family and Children', 'Homicide - Justifiable',\n",
       "       nan], dtype=object)"
      ]
     },
     "execution_count": 38,
     "metadata": {},
     "output_type": "execute_result"
    }
   ],
   "source": [
    "df['Text_General_Code'].unique()"
   ]
  },
  {
   "cell_type": "code",
   "execution_count": 39,
   "metadata": {
    "collapsed": false
   },
   "outputs": [
    {
     "data": {
      "text/html": [
       "<div>\n",
       "<table border=\"1\" class=\"dataframe\">\n",
       "  <thead>\n",
       "    <tr style=\"text-align: right;\">\n",
       "      <th></th>\n",
       "      <th>Month</th>\n",
       "      <th>Text_General_Code</th>\n",
       "      <th>Value</th>\n",
       "    </tr>\n",
       "  </thead>\n",
       "  <tbody>\n",
       "    <tr>\n",
       "      <th>0</th>\n",
       "      <td>2006-01</td>\n",
       "      <td>Aggravated Assault Firearm</td>\n",
       "      <td>277</td>\n",
       "    </tr>\n",
       "    <tr>\n",
       "      <th>1</th>\n",
       "      <td>2006-01</td>\n",
       "      <td>Aggravated Assault No Firearm</td>\n",
       "      <td>468</td>\n",
       "    </tr>\n",
       "    <tr>\n",
       "      <th>2</th>\n",
       "      <td>2006-01</td>\n",
       "      <td>All Other Offenses</td>\n",
       "      <td>4295</td>\n",
       "    </tr>\n",
       "    <tr>\n",
       "      <th>3</th>\n",
       "      <td>2006-01</td>\n",
       "      <td>Arson</td>\n",
       "      <td>44</td>\n",
       "    </tr>\n",
       "    <tr>\n",
       "      <th>4</th>\n",
       "      <td>2006-01</td>\n",
       "      <td>Burglary Non-Residential</td>\n",
       "      <td>246</td>\n",
       "    </tr>\n",
       "  </tbody>\n",
       "</table>\n",
       "</div>"
      ],
      "text/plain": [
       "     Month              Text_General_Code  Value\n",
       "0  2006-01     Aggravated Assault Firearm    277\n",
       "1  2006-01  Aggravated Assault No Firearm    468\n",
       "2  2006-01             All Other Offenses   4295\n",
       "3  2006-01                          Arson     44\n",
       "4  2006-01       Burglary Non-Residential    246"
      ]
     },
     "execution_count": 39,
     "metadata": {},
     "output_type": "execute_result"
    }
   ],
   "source": [
    "# Count of 1 for each record. Nice to have a standard column name\n",
    "df['Value'] = 1\n",
    "\n",
    "\n",
    "# Use sum. We're summing up all  Dc_Dist\n",
    "g=df.groupby(['Month','Text_General_Code'])['Value'].sum().reset_index()\n",
    "\n",
    "g.head()"
   ]
  },
  {
   "cell_type": "markdown",
   "metadata": {},
   "source": [
    "## Analisando homicídio criminal"
   ]
  },
  {
   "cell_type": "code",
   "execution_count": 41,
   "metadata": {
    "collapsed": false
   },
   "outputs": [],
   "source": [
    "homicide_df = g[g['Text_General_Code'] == 'Homicide - Criminal']\n"
   ]
  },
  {
   "cell_type": "code",
   "execution_count": 42,
   "metadata": {
    "collapsed": false,
    "scrolled": true
   },
   "outputs": [
    {
     "data": {
      "text/html": [
       "<div>\n",
       "<table border=\"1\" class=\"dataframe\">\n",
       "  <thead>\n",
       "    <tr style=\"text-align: right;\">\n",
       "      <th></th>\n",
       "      <th>Month</th>\n",
       "      <th>Text_General_Code</th>\n",
       "      <th>Value</th>\n",
       "    </tr>\n",
       "  </thead>\n",
       "  <tbody>\n",
       "    <tr>\n",
       "      <th>12</th>\n",
       "      <td>2006-01</td>\n",
       "      <td>Homicide - Criminal</td>\n",
       "      <td>24</td>\n",
       "    </tr>\n",
       "    <tr>\n",
       "      <th>44</th>\n",
       "      <td>2006-02</td>\n",
       "      <td>Homicide - Criminal</td>\n",
       "      <td>22</td>\n",
       "    </tr>\n",
       "    <tr>\n",
       "      <th>75</th>\n",
       "      <td>2006-03</td>\n",
       "      <td>Homicide - Criminal</td>\n",
       "      <td>30</td>\n",
       "    </tr>\n",
       "    <tr>\n",
       "      <th>107</th>\n",
       "      <td>2006-04</td>\n",
       "      <td>Homicide - Criminal</td>\n",
       "      <td>33</td>\n",
       "    </tr>\n",
       "    <tr>\n",
       "      <th>139</th>\n",
       "      <td>2006-05</td>\n",
       "      <td>Homicide - Criminal</td>\n",
       "      <td>30</td>\n",
       "    </tr>\n",
       "  </tbody>\n",
       "</table>\n",
       "</div>"
      ],
      "text/plain": [
       "       Month    Text_General_Code  Value\n",
       "12   2006-01  Homicide - Criminal     24\n",
       "44   2006-02  Homicide - Criminal     22\n",
       "75   2006-03  Homicide - Criminal     30\n",
       "107  2006-04  Homicide - Criminal     33\n",
       "139  2006-05  Homicide - Criminal     30"
      ]
     },
     "execution_count": 42,
     "metadata": {},
     "output_type": "execute_result"
    }
   ],
   "source": [
    "homicide_df.head()"
   ]
  },
  {
   "cell_type": "code",
   "execution_count": 46,
   "metadata": {
    "collapsed": false
   },
   "outputs": [
    {
     "data": {
      "image/png": "[encoded data removed]",
      "text/plain": [
       "<matplotlib.figure.Figure at 0x7f3e3638af60>"
      ]
     },
     "metadata": {},
     "output_type": "display_data"
    }
   ],
   "source": [
    "# Red dot with Line\n",
    "fig, ax = plt.subplots()\n",
    "a\n",
    "ax.plot_date(homicide_df['Month'], homicide_df['Value'],'k')\n",
    "ax.plot_date(homicide_df['Month'], homicide_df['Value'],'ro')\n",
    "ax.set_title(\"Criminal Homicide\")\n",
    "fig.autofmt_xdate()\n",
    "plt.show()"
   ]
  },
  {
   "cell_type": "code",
   "execution_count": null,
   "metadata": {
    "collapsed": true
   },
   "outputs": [],
   "source": []
  }
 ],
 "metadata": {
  "anaconda-cloud": {},
  "kernelspec": {
   "display_name": "Python [default]",
   "language": "python",
   "name": "python3"
  },
  "language_info": {
   "codemirror_mode": {
    "name": "ipython",
    "version": 3
   },
   "file_extension": ".py",
   "mimetype": "text/x-python",
   "name": "python",
   "nbconvert_exporter": "python",
   "pygments_lexer": "ipython3",
   "version": "3.5.2"
  }
 },
 "nbformat": 4,
 "nbformat_minor": 1
}
